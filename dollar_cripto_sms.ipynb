{
 "cells": [
  {
   "cell_type": "code",
   "execution_count": 6,
   "metadata": {},
   "outputs": [
    {
     "ename": "ImportError",
     "evalue": "cannot import name 'PHONE_NUMBER_SMS' from 'scripts_config' (/mnt/d/Proyectos Ingeniero de datos/dollar_cripto_sms/scripts_config.py)",
     "output_type": "error",
     "traceback": [
      "\u001b[0;31m---------------------------------------------------------------------------\u001b[0m",
      "\u001b[0;31mImportError\u001b[0m                               Traceback (most recent call last)",
      "Cell \u001b[0;32mIn[6], line 8\u001b[0m\n\u001b[1;32m      6\u001b[0m \u001b[39mfrom\u001b[39;00m \u001b[39mrequests\u001b[39;00m\u001b[39m.\u001b[39;00m\u001b[39mexceptions\u001b[39;00m \u001b[39mimport\u001b[39;00m \u001b[39mConnectionError\u001b[39;00m, Timeout, TooManyRedirects\n\u001b[1;32m      7\u001b[0m \u001b[39mfrom\u001b[39;00m \u001b[39mtwilio\u001b[39;00m\u001b[39m.\u001b[39;00m\u001b[39mrest\u001b[39;00m \u001b[39mimport\u001b[39;00m Client\n\u001b[0;32m----> 8\u001b[0m \u001b[39mfrom\u001b[39;00m \u001b[39mscripts_config\u001b[39;00m \u001b[39mimport\u001b[39;00m TWILIO_ACCOUNT_SID, TWILIO_AUTH_TOKEN, PHONE_NUMBER_SMS, PHONE_NUMBER_WHATSAPP, EXCHANGE_TOKEN\n\u001b[1;32m      9\u001b[0m \u001b[39mimport\u001b[39;00m \u001b[39mpandas\u001b[39;00m \u001b[39mas\u001b[39;00m \u001b[39mpd\u001b[39;00m\n\u001b[1;32m     10\u001b[0m \u001b[39mimport\u001b[39;00m \u001b[39mnumpy\u001b[39;00m \u001b[39mas\u001b[39;00m \u001b[39mnp\u001b[39;00m\n",
      "\u001b[0;31mImportError\u001b[0m: cannot import name 'PHONE_NUMBER_SMS' from 'scripts_config' (/mnt/d/Proyectos Ingeniero de datos/dollar_cripto_sms/scripts_config.py)"
     ]
    }
   ],
   "source": [
    "import os\n",
    "import json\n",
    "from datetime import datetime\n",
    "import requests\n",
    "from requests import Request, Session\n",
    "from requests.exceptions import ConnectionError, Timeout, TooManyRedirects\n",
    "from twilio.rest import Client\n",
    "from scripts_config import TWILIO_ACCOUNT_SID, TWILIO_AUTH_TOKEN, PHONE_NUMBER_SMS, PHONE_NUMBER_WHATSAPP, EXCHANGE_TOKEN\n",
    "import pandas as pd\n",
    "import numpy as np"
   ]
  },
  {
   "cell_type": "code",
   "execution_count": 3,
   "metadata": {},
   "outputs": [],
   "source": [
    "#------------------------------------OBTENER VALOR DEL DOLLAR HOY-------------------------------\n",
    "#REQUEST\n",
    "url_dollar = \"https://api.apilayer.com/exchangerates_data/convert?to=COP&from=USD&amount=1\"\n",
    "\n",
    "payload = {}\n",
    "headers= {\n",
    "  \"apikey\": EXCHANGE_TOKEN #Key del API\n",
    "}\n",
    "\n",
    "response = requests.request(\"GET\", url_dollar, headers=headers, data = payload)\n",
    "\n",
    "status_code = response.status_code\n",
    "result = response.json()"
   ]
  },
  {
   "cell_type": "code",
   "execution_count": 4,
   "metadata": {},
   "outputs": [
    {
     "name": "stdout",
     "output_type": "stream",
     "text": [
      "4702.154977\n"
     ]
    }
   ],
   "source": [
    "#Para json anidados ponga json[primerallave][segundallave]\n",
    "#print(result['query']['from'])\n",
    "price_dollar = result['result']\n",
    "print(price_dollar)"
   ]
  },
  {
   "cell_type": "code",
   "execution_count": 5,
   "metadata": {},
   "outputs": [
    {
     "data": {
      "text/html": [
       "<div>\n",
       "<style scoped>\n",
       "    .dataframe tbody tr th:only-of-type {\n",
       "        vertical-align: middle;\n",
       "    }\n",
       "\n",
       "    .dataframe tbody tr th {\n",
       "        vertical-align: top;\n",
       "    }\n",
       "\n",
       "    .dataframe thead th {\n",
       "        text-align: right;\n",
       "    }\n",
       "</style>\n",
       "<table border=\"1\" class=\"dataframe\">\n",
       "  <thead>\n",
       "    <tr style=\"text-align: right;\">\n",
       "      <th></th>\n",
       "      <th>current_price</th>\n",
       "      <th>variation_porcent</th>\n",
       "    </tr>\n",
       "    <tr>\n",
       "      <th>name</th>\n",
       "      <th></th>\n",
       "      <th></th>\n",
       "    </tr>\n",
       "  </thead>\n",
       "  <tbody>\n",
       "    <tr>\n",
       "      <th>Bitcoin</th>\n",
       "      <td>21111.000000</td>\n",
       "      <td>1.62349</td>\n",
       "    </tr>\n",
       "    <tr>\n",
       "      <th>Ethereum</th>\n",
       "      <td>1558.200000</td>\n",
       "      <td>2.28071</td>\n",
       "    </tr>\n",
       "    <tr>\n",
       "      <th>Tether</th>\n",
       "      <td>1.003000</td>\n",
       "      <td>0.31980</td>\n",
       "    </tr>\n",
       "    <tr>\n",
       "      <th>Cardano</th>\n",
       "      <td>0.338965</td>\n",
       "      <td>2.28258</td>\n",
       "    </tr>\n",
       "    <tr>\n",
       "      <th>Dogecoin</th>\n",
       "      <td>0.081635</td>\n",
       "      <td>0.95064</td>\n",
       "    </tr>\n",
       "    <tr>\n",
       "      <th>TRON</th>\n",
       "      <td>0.060960</td>\n",
       "      <td>2.56897</td>\n",
       "    </tr>\n",
       "    <tr>\n",
       "      <th>Dai</th>\n",
       "      <td>1.001000</td>\n",
       "      <td>-0.04080</td>\n",
       "    </tr>\n",
       "    <tr>\n",
       "      <th>Chainlink</th>\n",
       "      <td>6.520000</td>\n",
       "      <td>1.99341</td>\n",
       "    </tr>\n",
       "    <tr>\n",
       "      <th>EOS</th>\n",
       "      <td>0.980419</td>\n",
       "      <td>1.37410</td>\n",
       "    </tr>\n",
       "    <tr>\n",
       "      <th>Frax</th>\n",
       "      <td>1.002000</td>\n",
       "      <td>0.37269</td>\n",
       "    </tr>\n",
       "  </tbody>\n",
       "</table>\n",
       "</div>"
      ],
      "text/plain": [
       "           current_price  variation_porcent\n",
       "name                                       \n",
       "Bitcoin     21111.000000            1.62349\n",
       "Ethereum     1558.200000            2.28071\n",
       "Tether          1.003000            0.31980\n",
       "Cardano         0.338965            2.28258\n",
       "Dogecoin        0.081635            0.95064\n",
       "TRON            0.060960            2.56897\n",
       "Dai             1.001000           -0.04080\n",
       "Chainlink       6.520000            1.99341\n",
       "EOS             0.980419            1.37410\n",
       "Frax            1.002000            0.37269"
      ]
     },
     "execution_count": 5,
     "metadata": {},
     "output_type": "execute_result"
    }
   ],
   "source": [
    "#------------------------------------OBTENER EL LISTADO DE CRIPTOS-------------------------------\n",
    "url_criptos = 'https://api.coingecko.com/api/v3/coins/markets?vs_currency=usd&ids=bitcoin%2Cethereum%2Cdogecoin%2Ctether%2Ccardano%2Ctron%2Cchainlink%2Ceos%2Cdai%2Cfrax&order=market_cap_desc&per_page=100&page=1&sparkline=false&price_change_percentage=24'\n",
    "df_criptos = pd.read_json(url_criptos)\n",
    "#Select a los campos que requerimos\n",
    "df_criptos = df_criptos[['id', 'symbol', 'name', 'current_price', 'high_24h', 'low_24h', 'price_change_24h', 'price_change_percentage_24h']]\n",
    "#renombrar el campo\n",
    "df_send = df_criptos.rename(columns ={'price_change_percentage_24h':'variation_porcent'})\n",
    "#Seteamos el indice\n",
    "df_send = df_send[['name', 'current_price', 'variation_porcent']]\n",
    "df_send.set_index('name', inplace= True)\n",
    "df_send\n",
    "#-----------------------------------------------------------------\n"
   ]
  },
  {
   "cell_type": "code",
   "execution_count": 11,
   "metadata": {},
   "outputs": [
    {
     "name": "stdout",
     "output_type": "stream",
     "text": [
      "SMd157f7830a30d6f52853c87219c26722\n"
     ]
    }
   ],
   "source": [
    "#------------------SMS------------------------\n",
    "account_sid = TWILIO_ACCOUNT_SID\n",
    "auth_token = TWILIO_AUTH_TOKEN\n",
    "\n",
    "\n",
    "client = Client(account_sid, auth_token)\n",
    "#Mensaje a mi celular\n",
    "message = client.messages.create(\n",
    "    body='\\n¡Hola! \\n \\n El valor del dolar hoy en COP es: '+str(price_dollar)+' \\n \\n  El precio de la cripto divisa es: \\n \\n ' + str(df_send),\n",
    "    from_=PHONE_NUMBER,\n",
    "    to='+573228784083'\n",
    ")\n",
    "print(message.sid)"
   ]
  },
  {
   "cell_type": "code",
   "execution_count": 18,
   "metadata": {},
   "outputs": [
    {
     "ename": "TwilioRestException",
     "evalue": "HTTP 400 error: Unable to create record: Twilio could not find a Channel with the specified From address",
     "output_type": "error",
     "traceback": [
      "\u001b[0;31m---------------------------------------------------------------------------\u001b[0m",
      "\u001b[0;31mTwilioRestException\u001b[0m                       Traceback (most recent call last)",
      "Cell \u001b[0;32mIn[18], line 6\u001b[0m\n\u001b[1;32m      3\u001b[0m auth_token \u001b[39m=\u001b[39m TWILIO_AUTH_TOKEN\n\u001b[1;32m      4\u001b[0m client \u001b[39m=\u001b[39m Client(account_sid, auth_token)\n\u001b[0;32m----> 6\u001b[0m message \u001b[39m=\u001b[39m client\u001b[39m.\u001b[39;49mmessages\u001b[39m.\u001b[39;49mcreate(\n\u001b[1;32m      7\u001b[0m                               body\u001b[39m=\u001b[39;49m\u001b[39m'\u001b[39;49m\u001b[39m\\n\u001b[39;49;00m\u001b[39m¡Hola! \u001b[39;49m\u001b[39m\\n\u001b[39;49;00m\u001b[39m \u001b[39;49m\u001b[39m\\n\u001b[39;49;00m\u001b[39m El valor del dolar hoy en COP es: \u001b[39;49m\u001b[39m'\u001b[39;49m\u001b[39m+\u001b[39;49m\u001b[39mstr\u001b[39;49m(price_dollar)\u001b[39m+\u001b[39;49m\u001b[39m'\u001b[39;49m\u001b[39m \u001b[39;49m\u001b[39m\\n\u001b[39;49;00m\u001b[39m \u001b[39;49m\u001b[39m\\n\u001b[39;49;00m\u001b[39m  El precio de la cripto divisa es: \u001b[39;49m\u001b[39m\\n\u001b[39;49;00m\u001b[39m \u001b[39;49m\u001b[39m\\n\u001b[39;49;00m\u001b[39m \u001b[39;49m\u001b[39m'\u001b[39;49m \u001b[39m+\u001b[39;49m \u001b[39mstr\u001b[39;49m(df_send),\n\u001b[1;32m      8\u001b[0m                               from_\u001b[39m=\u001b[39;49m\u001b[39m'\u001b[39;49m\u001b[39mwhatsapp:\u001b[39;49m\u001b[39m'\u001b[39;49m\u001b[39m+\u001b[39;49mPHONE_NUMBER,\n\u001b[1;32m      9\u001b[0m                               to\u001b[39m=\u001b[39;49m\u001b[39m'\u001b[39;49m\u001b[39mwhatsapp:+573228784083\u001b[39;49m\u001b[39m'\u001b[39;49m\n\u001b[1;32m     10\u001b[0m                           )\n\u001b[1;32m     11\u001b[0m \u001b[39mprint\u001b[39m(message\u001b[39m.\u001b[39msid)\n",
      "File \u001b[0;32m/mnt/d/Proyectos Ingeniero de datos/dollar_cripto_sms/lib/python3.9/site-packages/twilio/rest/api/v2010/account/message/__init__.py:103\u001b[0m, in \u001b[0;36mMessageList.create\u001b[0;34m(self, to, status_callback, application_sid, max_price, provide_feedback, attempt, validity_period, force_delivery, content_retention, address_retention, smart_encoded, persistent_action, shorten_urls, schedule_type, send_at, send_as_mms, content_sid, content_variables, from_, messaging_service_sid, body, media_url)\u001b[0m\n\u001b[1;32m     49\u001b[0m \u001b[39m\u001b[39m\u001b[39m\"\"\"\u001b[39;00m\n\u001b[1;32m     50\u001b[0m \u001b[39mCreate the MessageInstance\u001b[39;00m\n\u001b[1;32m     51\u001b[0m \n\u001b[0;32m   (...)\u001b[0m\n\u001b[1;32m     76\u001b[0m \u001b[39m:rtype: twilio.rest.api.v2010.account.message.MessageInstance\u001b[39;00m\n\u001b[1;32m     77\u001b[0m \u001b[39m\"\"\"\u001b[39;00m\n\u001b[1;32m     78\u001b[0m data \u001b[39m=\u001b[39m values\u001b[39m.\u001b[39mof({\n\u001b[1;32m     79\u001b[0m     \u001b[39m'\u001b[39m\u001b[39mTo\u001b[39m\u001b[39m'\u001b[39m: to,\n\u001b[1;32m     80\u001b[0m     \u001b[39m'\u001b[39m\u001b[39mFrom\u001b[39m\u001b[39m'\u001b[39m: from_,\n\u001b[0;32m   (...)\u001b[0m\n\u001b[1;32m    100\u001b[0m     \u001b[39m'\u001b[39m\u001b[39mContentVariables\u001b[39m\u001b[39m'\u001b[39m: content_variables,\n\u001b[1;32m    101\u001b[0m })\n\u001b[0;32m--> 103\u001b[0m payload \u001b[39m=\u001b[39m \u001b[39mself\u001b[39;49m\u001b[39m.\u001b[39;49m_version\u001b[39m.\u001b[39;49mcreate(method\u001b[39m=\u001b[39;49m\u001b[39m'\u001b[39;49m\u001b[39mPOST\u001b[39;49m\u001b[39m'\u001b[39;49m, uri\u001b[39m=\u001b[39;49m\u001b[39mself\u001b[39;49m\u001b[39m.\u001b[39;49m_uri, data\u001b[39m=\u001b[39;49mdata, )\n\u001b[1;32m    105\u001b[0m \u001b[39mreturn\u001b[39;00m MessageInstance(\u001b[39mself\u001b[39m\u001b[39m.\u001b[39m_version, payload, account_sid\u001b[39m=\u001b[39m\u001b[39mself\u001b[39m\u001b[39m.\u001b[39m_solution[\u001b[39m'\u001b[39m\u001b[39maccount_sid\u001b[39m\u001b[39m'\u001b[39m], )\n",
      "File \u001b[0;32m/mnt/d/Proyectos Ingeniero de datos/dollar_cripto_sms/lib/python3.9/site-packages/twilio/base/version.py:205\u001b[0m, in \u001b[0;36mVersion.create\u001b[0;34m(self, method, uri, params, data, headers, auth, timeout, allow_redirects)\u001b[0m\n\u001b[1;32m    193\u001b[0m response \u001b[39m=\u001b[39m \u001b[39mself\u001b[39m\u001b[39m.\u001b[39mrequest(\n\u001b[1;32m    194\u001b[0m     method,\n\u001b[1;32m    195\u001b[0m     uri,\n\u001b[0;32m   (...)\u001b[0m\n\u001b[1;32m    201\u001b[0m     allow_redirects\u001b[39m=\u001b[39mallow_redirects,\n\u001b[1;32m    202\u001b[0m )\n\u001b[1;32m    204\u001b[0m \u001b[39mif\u001b[39;00m response\u001b[39m.\u001b[39mstatus_code \u001b[39m<\u001b[39m \u001b[39m200\u001b[39m \u001b[39mor\u001b[39;00m response\u001b[39m.\u001b[39mstatus_code \u001b[39m>\u001b[39m\u001b[39m=\u001b[39m \u001b[39m300\u001b[39m:\n\u001b[0;32m--> 205\u001b[0m     \u001b[39mraise\u001b[39;00m \u001b[39mself\u001b[39m\u001b[39m.\u001b[39mexception(method, uri, response, \u001b[39m'\u001b[39m\u001b[39mUnable to create record\u001b[39m\u001b[39m'\u001b[39m)\n\u001b[1;32m    207\u001b[0m \u001b[39mreturn\u001b[39;00m json\u001b[39m.\u001b[39mloads(response\u001b[39m.\u001b[39mtext)\n",
      "\u001b[0;31mTwilioRestException\u001b[0m: HTTP 400 error: Unable to create record: Twilio could not find a Channel with the specified From address"
     ]
    }
   ],
   "source": [
    "#-------------WHATSAPP-------------\n",
    "account_sid = TWILIO_ACCOUNT_SID\n",
    "auth_token = TWILIO_AUTH_TOKEN\n",
    "client = Client(account_sid, auth_token)\n",
    "\n",
    "message = client.messages.create(\n",
    "                              body='\\n¡Hola! \\n \\n El valor del dolar hoy en COP es: '+str(price_dollar)+' \\n \\n  El precio de la cripto divisa es: \\n \\n ' + str(df_send),\n",
    "                              from_='whatsapp:',\n",
    "                              to='whatsapp:+573228784083'\n",
    "                          )\n",
    "print(message.sid)"
   ]
  }
 ],
 "metadata": {
  "kernelspec": {
   "display_name": "dollar_cripto_sms",
   "language": "python",
   "name": "python3"
  },
  "language_info": {
   "codemirror_mode": {
    "name": "ipython",
    "version": 3
   },
   "file_extension": ".py",
   "mimetype": "text/x-python",
   "name": "python",
   "nbconvert_exporter": "python",
   "pygments_lexer": "ipython3",
   "version": "3.9.13"
  },
  "orig_nbformat": 4,
  "vscode": {
   "interpreter": {
    "hash": "13663b31b1d4991cb7d3973af6d61a47ccfa1175eb5b69c74122371d2e6cce25"
   }
  }
 },
 "nbformat": 4,
 "nbformat_minor": 2
}
