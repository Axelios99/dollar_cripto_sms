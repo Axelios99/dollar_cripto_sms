{
 "cells": [
  {
   "cell_type": "code",
   "execution_count": 7,
   "metadata": {},
   "outputs": [],
   "source": [
    "import json\n",
    "from datetime import datetime\n",
    "import requests\n",
    "from requests import Request, Session\n",
    "from requests.exceptions import ConnectionError, Timeout, TooManyRedirects\n",
    "from twilio.rest import Client\n",
    "from scripts_config import TWILIO_ACCOUNT_SID, TWILIO_AUTH_TOKEN, PHONE_NUMBER_SMS, PHONE_NUMBER_WHATSAPP, EXCHANGE_TOKEN\n",
    "import pandas as pd\n",
    "import numpy as np"
   ]
  },
  {
   "cell_type": "code",
   "execution_count": 2,
   "metadata": {},
   "outputs": [],
   "source": [
    "#------------------------------------OBTENER VALOR DEL DOLLAR HOY-------------------------------\n",
    "#REQUEST\n",
    "url_dollar = \"https://api.apilayer.com/exchangerates_data/convert?to=COP&from=USD&amount=1\"\n",
    "\n",
    "payload = {}\n",
    "headers= {\n",
    "  \"apikey\": EXCHANGE_TOKEN #Key del API\n",
    "}\n",
    "\n",
    "response = requests.request(\"GET\", url_dollar, headers=headers, data = payload)\n",
    "\n",
    "status_code = response.status_code\n",
    "result = response.json()"
   ]
  },
  {
   "cell_type": "code",
   "execution_count": 3,
   "metadata": {},
   "outputs": [
    {
     "name": "stdout",
     "output_type": "stream",
     "text": [
      "4683.2\n"
     ]
    }
   ],
   "source": [
    "#Para json anidados ponga json[primerallave][segundallave]\n",
    "#print(result['query']['from'])\n",
    "price_dollar = result['result']\n",
    "print(price_dollar)"
   ]
  },
  {
   "cell_type": "code",
   "execution_count": 4,
   "metadata": {},
   "outputs": [
    {
     "data": {
      "text/html": [
       "<div>\n",
       "<style scoped>\n",
       "    .dataframe tbody tr th:only-of-type {\n",
       "        vertical-align: middle;\n",
       "    }\n",
       "\n",
       "    .dataframe tbody tr th {\n",
       "        vertical-align: top;\n",
       "    }\n",
       "\n",
       "    .dataframe thead th {\n",
       "        text-align: right;\n",
       "    }\n",
       "</style>\n",
       "<table border=\"1\" class=\"dataframe\">\n",
       "  <thead>\n",
       "    <tr style=\"text-align: right;\">\n",
       "      <th></th>\n",
       "      <th>current_price</th>\n",
       "      <th>variation_porcent</th>\n",
       "    </tr>\n",
       "    <tr>\n",
       "      <th>name</th>\n",
       "      <th></th>\n",
       "      <th></th>\n",
       "    </tr>\n",
       "  </thead>\n",
       "  <tbody>\n",
       "    <tr>\n",
       "      <th>Bitcoin</th>\n",
       "      <td>21093.000000</td>\n",
       "      <td>1.51742</td>\n",
       "    </tr>\n",
       "    <tr>\n",
       "      <th>Ethereum</th>\n",
       "      <td>1556.480000</td>\n",
       "      <td>2.09914</td>\n",
       "    </tr>\n",
       "    <tr>\n",
       "      <th>Tether</th>\n",
       "      <td>1.002000</td>\n",
       "      <td>0.17703</td>\n",
       "    </tr>\n",
       "    <tr>\n",
       "      <th>Cardano</th>\n",
       "      <td>0.337828</td>\n",
       "      <td>1.95342</td>\n",
       "    </tr>\n",
       "    <tr>\n",
       "      <th>Dogecoin</th>\n",
       "      <td>0.081297</td>\n",
       "      <td>0.51174</td>\n",
       "    </tr>\n",
       "    <tr>\n",
       "      <th>TRON</th>\n",
       "      <td>0.060701</td>\n",
       "      <td>2.09357</td>\n",
       "    </tr>\n",
       "    <tr>\n",
       "      <th>Dai</th>\n",
       "      <td>1.000000</td>\n",
       "      <td>-0.06441</td>\n",
       "    </tr>\n",
       "    <tr>\n",
       "      <th>Chainlink</th>\n",
       "      <td>6.490000</td>\n",
       "      <td>1.74496</td>\n",
       "    </tr>\n",
       "    <tr>\n",
       "      <th>EOS</th>\n",
       "      <td>0.978054</td>\n",
       "      <td>0.68534</td>\n",
       "    </tr>\n",
       "    <tr>\n",
       "      <th>Frax</th>\n",
       "      <td>1.000000</td>\n",
       "      <td>0.14885</td>\n",
       "    </tr>\n",
       "  </tbody>\n",
       "</table>\n",
       "</div>"
      ],
      "text/plain": [
       "           current_price  variation_porcent\n",
       "name                                       \n",
       "Bitcoin     21093.000000            1.51742\n",
       "Ethereum     1556.480000            2.09914\n",
       "Tether          1.002000            0.17703\n",
       "Cardano         0.337828            1.95342\n",
       "Dogecoin        0.081297            0.51174\n",
       "TRON            0.060701            2.09357\n",
       "Dai             1.000000           -0.06441\n",
       "Chainlink       6.490000            1.74496\n",
       "EOS             0.978054            0.68534\n",
       "Frax            1.000000            0.14885"
      ]
     },
     "execution_count": 4,
     "metadata": {},
     "output_type": "execute_result"
    }
   ],
   "source": [
    "#------------------------------------OBTENER EL LISTADO DE CRIPTOS-------------------------------\n",
    "url_criptos = 'https://api.coingecko.com/api/v3/coins/markets?vs_currency=usd&ids=bitcoin%2Cethereum%2Cdogecoin%2Ctether%2Ccardano%2Ctron%2Cchainlink%2Ceos%2Cdai%2Cfrax&order=market_cap_desc&per_page=100&page=1&sparkline=false&price_change_percentage=24'\n",
    "df_criptos = pd.read_json(url_criptos)\n",
    "#Select a los campos que requerimos\n",
    "df_criptos = df_criptos[['id', 'symbol', 'name', 'current_price', 'high_24h', 'low_24h', 'price_change_24h', 'price_change_percentage_24h']]\n",
    "#renombrar el campo\n",
    "df_send = df_criptos.rename(columns ={'price_change_percentage_24h':'variation_porcent'})\n",
    "#Seteamos el indice\n",
    "df_send = df_send[['name', 'current_price', 'variation_porcent']]\n",
    "df_send.set_index('name', inplace= True)\n",
    "df_send\n",
    "#-----------------------------------------------------------------\n"
   ]
  },
  {
   "cell_type": "code",
   "execution_count": 11,
   "metadata": {},
   "outputs": [
    {
     "name": "stdout",
     "output_type": "stream",
     "text": [
      "SMd157f7830a30d6f52853c87219c26722\n"
     ]
    }
   ],
   "source": [
    "#------------------SMS------------------------\n",
    "account_sid = TWILIO_ACCOUNT_SID\n",
    "auth_token = TWILIO_AUTH_TOKEN\n",
    "\n",
    "\n",
    "client = Client(account_sid, auth_token)\n",
    "#Mensaje a mi celular\n",
    "message = client.messages.create(\n",
    "    body='\\n¡Hola! \\n \\n El valor del dolar hoy en COP es: '+str(price_dollar)+' \\n \\n  El precio de la cripto divisa es: \\n \\n ' + str(df_send),\n",
    "    from_=PHONE_NUMBER,\n",
    "    to='+573228784083'\n",
    ")\n",
    "print(message.sid)"
   ]
  },
  {
   "cell_type": "code",
   "execution_count": 6,
   "metadata": {},
   "outputs": [
    {
     "name": "stdout",
     "output_type": "stream",
     "text": [
      "SMc8f3788436371c04e692a9645aec0212\n"
     ]
    }
   ],
   "source": [
    "#-------------WHATSAPP-------------\n",
    "account_sid = TWILIO_ACCOUNT_SID\n",
    "auth_token = TWILIO_AUTH_TOKEN\n",
    "client = Client(account_sid, auth_token)\n",
    "\n",
    "message = client.messages.create(\n",
    "                              body='\\n¡Hola! \\n \\n El valor del dolar hoy en COP es: '+str(price_dollar)+' \\n \\n  El precio de la cripto divisa es: \\n \\n ' + str(df_send),\n",
    "                              from_='whatsapp:'+PHONE_NUMBER_WHATSAPP,\n",
    "                              to='whatsapp:+573228784083'\n",
    "                          )\n",
    "print(message.sid)"
   ]
  }
 ],
 "metadata": {
  "kernelspec": {
   "display_name": "dollar_cripto_sms",
   "language": "python",
   "name": "python3"
  },
  "language_info": {
   "codemirror_mode": {
    "name": "ipython",
    "version": 3
   },
   "file_extension": ".py",
   "mimetype": "text/x-python",
   "name": "python",
   "nbconvert_exporter": "python",
   "pygments_lexer": "ipython3",
   "version": "3.9.13"
  },
  "orig_nbformat": 4,
  "vscode": {
   "interpreter": {
    "hash": "13663b31b1d4991cb7d3973af6d61a47ccfa1175eb5b69c74122371d2e6cce25"
   }
  }
 },
 "nbformat": 4,
 "nbformat_minor": 2
}
